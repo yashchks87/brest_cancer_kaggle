{
 "cells": [
  {
   "cell_type": "code",
   "execution_count": 113,
   "metadata": {},
   "outputs": [],
   "source": [
    "import pydicom\n",
    "from pathlib import Path\n",
    "import numpy as np\n",
    "import PIL\n",
    "import os\n",
    "import glob\n",
    "import pandas as pd\n",
    "from tqdm import tqdm\n",
    "import glob\n",
    "import cv2\n",
    "import multiprocessing as mp\n",
    "import random\n",
    "from sklearn.model_selection import train_test_split\n",
    "import matplotlib.pyplot as plt\n",
    "import collections\n",
    "import tensorflow as tf"
   ]
  },
  {
   "cell_type": "code",
   "execution_count": 43,
   "metadata": {},
   "outputs": [],
   "source": [
    "train_csv = pd.read_csv('../data/train.csv')"
   ]
  },
  {
   "cell_type": "code",
   "execution_count": 44,
   "metadata": {},
   "outputs": [],
   "source": [
    "dicom_images = glob.glob('../data/train_images/*/*.dcm')"
   ]
  },
  {
   "cell_type": "code",
   "execution_count": 45,
   "metadata": {},
   "outputs": [],
   "source": [
    "def fix_paths_csv(patient_id, image_id):\n",
    "    return '../data/train_images/' + str(patient_id) + '/' + str(image_id) + '.dcm'"
   ]
  },
  {
   "cell_type": "code",
   "execution_count": 46,
   "metadata": {},
   "outputs": [],
   "source": [
    "train_csv['updated_paths'] = train_csv.apply(lambda x: fix_paths_csv(x.patient_id, x.image_id), axis = 1)"
   ]
  },
  {
   "cell_type": "markdown",
   "metadata": {},
   "source": [
    "Code to convert dicom images to pngs."
   ]
  },
  {
   "cell_type": "markdown",
   "metadata": {},
   "source": [
    "1. Crop image_array with 100 top and 100 down pixels\n",
    "2. Find base cut off path with all values as 0\n",
    "3. If step 2 does not work do max value search and cut off from that point\n",
    "4. If step 2 and 3 does not work and get system error then flip imagearray and repeat 2 and 3."
   ]
  },
  {
   "cell_type": "code",
   "execution_count": 6,
   "metadata": {},
   "outputs": [
    {
     "data": {
      "text/html": [
       "<div>\n",
       "<style scoped>\n",
       "    .dataframe tbody tr th:only-of-type {\n",
       "        vertical-align: middle;\n",
       "    }\n",
       "\n",
       "    .dataframe tbody tr th {\n",
       "        vertical-align: top;\n",
       "    }\n",
       "\n",
       "    .dataframe thead th {\n",
       "        text-align: right;\n",
       "    }\n",
       "</style>\n",
       "<table border=\"1\" class=\"dataframe\">\n",
       "  <thead>\n",
       "    <tr style=\"text-align: right;\">\n",
       "      <th></th>\n",
       "      <th>site_id</th>\n",
       "      <th>patient_id</th>\n",
       "      <th>image_id</th>\n",
       "      <th>laterality</th>\n",
       "      <th>view</th>\n",
       "      <th>age</th>\n",
       "      <th>cancer</th>\n",
       "      <th>biopsy</th>\n",
       "      <th>invasive</th>\n",
       "      <th>BIRADS</th>\n",
       "      <th>implant</th>\n",
       "      <th>density</th>\n",
       "      <th>machine_id</th>\n",
       "      <th>difficult_negative_case</th>\n",
       "      <th>updated_paths</th>\n",
       "    </tr>\n",
       "  </thead>\n",
       "  <tbody>\n",
       "    <tr>\n",
       "      <th>0</th>\n",
       "      <td>2</td>\n",
       "      <td>10006</td>\n",
       "      <td>462822612</td>\n",
       "      <td>L</td>\n",
       "      <td>CC</td>\n",
       "      <td>61.0</td>\n",
       "      <td>0</td>\n",
       "      <td>0</td>\n",
       "      <td>0</td>\n",
       "      <td>NaN</td>\n",
       "      <td>0</td>\n",
       "      <td>NaN</td>\n",
       "      <td>29</td>\n",
       "      <td>False</td>\n",
       "      <td>../data/train_images/10006/462822612.dcm</td>\n",
       "    </tr>\n",
       "    <tr>\n",
       "      <th>1</th>\n",
       "      <td>2</td>\n",
       "      <td>10006</td>\n",
       "      <td>1459541791</td>\n",
       "      <td>L</td>\n",
       "      <td>MLO</td>\n",
       "      <td>61.0</td>\n",
       "      <td>0</td>\n",
       "      <td>0</td>\n",
       "      <td>0</td>\n",
       "      <td>NaN</td>\n",
       "      <td>0</td>\n",
       "      <td>NaN</td>\n",
       "      <td>29</td>\n",
       "      <td>False</td>\n",
       "      <td>../data/train_images/10006/1459541791.dcm</td>\n",
       "    </tr>\n",
       "    <tr>\n",
       "      <th>2</th>\n",
       "      <td>2</td>\n",
       "      <td>10006</td>\n",
       "      <td>1864590858</td>\n",
       "      <td>R</td>\n",
       "      <td>MLO</td>\n",
       "      <td>61.0</td>\n",
       "      <td>0</td>\n",
       "      <td>0</td>\n",
       "      <td>0</td>\n",
       "      <td>NaN</td>\n",
       "      <td>0</td>\n",
       "      <td>NaN</td>\n",
       "      <td>29</td>\n",
       "      <td>False</td>\n",
       "      <td>../data/train_images/10006/1864590858.dcm</td>\n",
       "    </tr>\n",
       "    <tr>\n",
       "      <th>3</th>\n",
       "      <td>2</td>\n",
       "      <td>10006</td>\n",
       "      <td>1874946579</td>\n",
       "      <td>R</td>\n",
       "      <td>CC</td>\n",
       "      <td>61.0</td>\n",
       "      <td>0</td>\n",
       "      <td>0</td>\n",
       "      <td>0</td>\n",
       "      <td>NaN</td>\n",
       "      <td>0</td>\n",
       "      <td>NaN</td>\n",
       "      <td>29</td>\n",
       "      <td>False</td>\n",
       "      <td>../data/train_images/10006/1874946579.dcm</td>\n",
       "    </tr>\n",
       "    <tr>\n",
       "      <th>4</th>\n",
       "      <td>2</td>\n",
       "      <td>10011</td>\n",
       "      <td>220375232</td>\n",
       "      <td>L</td>\n",
       "      <td>CC</td>\n",
       "      <td>55.0</td>\n",
       "      <td>0</td>\n",
       "      <td>0</td>\n",
       "      <td>0</td>\n",
       "      <td>0.0</td>\n",
       "      <td>0</td>\n",
       "      <td>NaN</td>\n",
       "      <td>21</td>\n",
       "      <td>True</td>\n",
       "      <td>../data/train_images/10011/220375232.dcm</td>\n",
       "    </tr>\n",
       "  </tbody>\n",
       "</table>\n",
       "</div>"
      ],
      "text/plain": [
       "   site_id  patient_id    image_id laterality view   age  cancer  biopsy  \\\n",
       "0        2       10006   462822612          L   CC  61.0       0       0   \n",
       "1        2       10006  1459541791          L  MLO  61.0       0       0   \n",
       "2        2       10006  1864590858          R  MLO  61.0       0       0   \n",
       "3        2       10006  1874946579          R   CC  61.0       0       0   \n",
       "4        2       10011   220375232          L   CC  55.0       0       0   \n",
       "\n",
       "   invasive  BIRADS  implant density  machine_id  difficult_negative_case  \\\n",
       "0         0     NaN        0     NaN          29                    False   \n",
       "1         0     NaN        0     NaN          29                    False   \n",
       "2         0     NaN        0     NaN          29                    False   \n",
       "3         0     NaN        0     NaN          29                    False   \n",
       "4         0     0.0        0     NaN          21                     True   \n",
       "\n",
       "                               updated_paths  \n",
       "0   ../data/train_images/10006/462822612.dcm  \n",
       "1  ../data/train_images/10006/1459541791.dcm  \n",
       "2  ../data/train_images/10006/1864590858.dcm  \n",
       "3  ../data/train_images/10006/1874946579.dcm  \n",
       "4   ../data/train_images/10011/220375232.dcm  "
      ]
     },
     "execution_count": 6,
     "metadata": {},
     "output_type": "execute_result"
    }
   ],
   "source": [
    "train_csv.head()"
   ]
  },
  {
   "cell_type": "code",
   "execution_count": 29,
   "metadata": {},
   "outputs": [],
   "source": [
    "def zeros_and_crop(img_arr, img_array):\n",
    "    whole_array_zero = False\n",
    "    count_zeros = np.all(img_arr == 0, axis = 0)\n",
    "    cut_off_num = np.where(count_zeros == True)\n",
    "    cropped_arr = img_array[:, :cut_off_num[0][0]]\n",
    "    if len(cropped_arr[0]) == 0:\n",
    "        raise IndexError\n",
    "    return cropped_arr\n",
    "\n",
    "def non_zero_crop(img_arr, img_array, max_value = 20):\n",
    "    max_vals = np.max(img_arr, axis = 0)\n",
    "    cut_off_num = np.where(max_vals < max_value)\n",
    "    cropped_arr = img_array[:, :cut_off_num[0][0]]\n",
    "    if len(cropped_arr[0]) == 0:\n",
    "        raise SystemError\n",
    "    return cropped_arr"
   ]
  },
  {
   "cell_type": "code",
   "execution_count": 32,
   "metadata": {},
   "outputs": [],
   "source": [
    "def cut_pngs(img_array, direction):\n",
    "    img_arr = img_array.copy()\n",
    "    img_arr = img_arr[100:-100, :]\n",
    "    if direction == 'L':\n",
    "        try:\n",
    "            cropped_arr = zeros_and_crop(img_arr, img_array)\n",
    "        except IndexError:\n",
    "            try:\n",
    "                cropped_arr = non_zero_crop(img_arr, img_array)\n",
    "            except SystemError:\n",
    "                img_arr = img_arr[:, ::-1]\n",
    "                img_array = img_array[:, ::-1]\n",
    "                try:\n",
    "                    cropped_arr = zeros_and_crop(img_arr, img_array)\n",
    "                except IndexError:\n",
    "                    cropped_arr = non_zero_crop(img_arr, img_array)\n",
    "                cropped_arr = cropped_arr[:, ::-1]\n",
    "    if direction == 'R':\n",
    "        img_arr = img_arr[:, ::-1]\n",
    "        img_array = img_array[:, ::-1]\n",
    "        try:\n",
    "            cropped_arr = zeros_and_crop(img_arr, img_array)\n",
    "            cropped_arr = cropped_arr[:, ::-1]\n",
    "        except IndexError:\n",
    "            try:\n",
    "                cropped_arr = non_zero_crop(img_arr, img_array)    \n",
    "                cropped_arr = cropped_arr[:, ::-1]\n",
    "            except SystemError:\n",
    "                img_arr = img_arr[:, ::-1]\n",
    "                img_array = img_array[:, ::-1]\n",
    "                try:\n",
    "                    cropped_arr = zeros_and_crop(img_arr, img_array)\n",
    "                except IndexError:\n",
    "                    cropped_arr = non_zero_crop(img_arr, img_array)\n",
    "    return cropped_arr\n",
    "\n",
    "def convert_dicom_to_pngs(data_iter):\n",
    "    img_path, direction = data_iter[0], data_iter[1]\n",
    "    save_file_path = img_path.replace('train', 'fixed').replace('images', 'pngs').replace('dcm', 'png')\n",
    "    folder_path = '/'.join(save_file_path.split('/')[:-1]) + '/'\n",
    "    if os.path.exists(folder_path) == False:\n",
    "        os.makedirs(folder_path)\n",
    "    img = pydicom.read_file(img_path)\n",
    "    img_array = img.pixel_array\n",
    "    if img.PhotometricInterpretation == \"MONOCHROME1\":\n",
    "        img_array = np.amax(img_array) - img_array\n",
    "    img_array = img_array - np.min(img_array)\n",
    "    img_array = img_array / np.max(img_array)\n",
    "    img_array = (img_array * 255).astype(np.uint8)\n",
    "    return_var = ''\n",
    "    try:\n",
    "        cropped_arr = cut_pngs(img_array, direction)\n",
    "    except:\n",
    "        return_var += f'Cropping issue. {img_path}'\n",
    "        return return_var\n",
    "    try:\n",
    "        final_img = PIL.Image.fromarray(cropped_arr)\n",
    "        final_img.save(save_file_path)\n",
    "        return 'File Saved'\n",
    "    except:\n",
    "        return_var += 'Saving issue.'\n",
    "    return return_var\n",
    "        # return [save_file_path, cropped_arr, direction]"
   ]
  },
  {
   "cell_type": "code",
   "execution_count": 33,
   "metadata": {},
   "outputs": [],
   "source": [
    "data_paths = train_csv[['updated_paths', 'laterality']].values.tolist()"
   ]
  },
  {
   "cell_type": "code",
   "execution_count": 34,
   "metadata": {},
   "outputs": [],
   "source": [
    "import multiprocessing as mp"
   ]
  },
  {
   "cell_type": "code",
   "execution_count": 35,
   "metadata": {},
   "outputs": [],
   "source": [
    "with mp.Pool(30) as p:\n",
    "    issues_list = p.map(convert_dicom_to_pngs, data_paths)"
   ]
  },
  {
   "cell_type": "code",
   "execution_count": 50,
   "metadata": {},
   "outputs": [],
   "source": [
    "issue_paths = []\n",
    "for x in issues_list:\n",
    "    if x != 'File Saved':\n",
    "        issue_paths.append(x.split(' ')[-1])"
   ]
  },
  {
   "cell_type": "code",
   "execution_count": 54,
   "metadata": {},
   "outputs": [],
   "source": [
    "# # removing those non-use files\n",
    "# issue_img_paths = []\n",
    "# for x in issue_paths:   \n",
    "#     updated_path = x.replace('train', 'fixed').replace('images', 'pngs').replace('dcm', 'png')\n",
    "#     try:\n",
    "#         os.remove(updated_path)\n",
    "#     except:\n",
    "#         pass"
   ]
  },
  {
   "cell_type": "code",
   "execution_count": 58,
   "metadata": {},
   "outputs": [],
   "source": [
    "def convert_dicom_pngs_only(path):\n",
    "    img_path = path\n",
    "    updated_path = img_path.replace('train', 'fixed').replace('images', 'pngs').replace('dcm', 'png')\n",
    "    img = pydicom.read_file(img_path)\n",
    "    img_array = img.pixel_array\n",
    "    if img.PhotometricInterpretation == \"MONOCHROME1\":\n",
    "        img_array = np.amax(img_array) - img_array\n",
    "    img_array = img_array - np.min(img_array)\n",
    "    img_array = img_array / np.max(img_array)\n",
    "    img_array = (img_array * 255).astype(np.uint8)\n",
    "    final_img = PIL.Image.fromarray(img_array)\n",
    "    final_img.save(updated_path)"
   ]
  },
  {
   "cell_type": "code",
   "execution_count": 59,
   "metadata": {},
   "outputs": [
    {
     "name": "stderr",
     "output_type": "stream",
     "text": [
      "100%|██████████| 397/397 [06:40<00:00,  1.01s/it]\n"
     ]
    }
   ],
   "source": [
    "for x in tqdm(issue_paths):\n",
    "    convert_dicom_pngs_only(x)"
   ]
  },
  {
   "cell_type": "code",
   "execution_count": 3,
   "metadata": {},
   "outputs": [],
   "source": [
    "# check any image is empty or not\n",
    "png_files = glob.glob('../data/fixed_pngs/*/*.png')"
   ]
  },
  {
   "cell_type": "code",
   "execution_count": 4,
   "metadata": {},
   "outputs": [],
   "source": [
    "def check_good_bads(png_path):\n",
    "    if np.any(np.array(PIL.Image.open(png_path)) > 0) == True:\n",
    "        return 'GOOD'\n",
    "    else:\n",
    "        return 'BAD'"
   ]
  },
  {
   "cell_type": "code",
   "execution_count": 5,
   "metadata": {},
   "outputs": [],
   "source": [
    "with mp.Pool(30) as p:\n",
    "    good_bad = p.map(check_good_bads, png_files)"
   ]
  },
  {
   "cell_type": "code",
   "execution_count": 7,
   "metadata": {},
   "outputs": [],
   "source": [
    "for x in good_bad:\n",
    "    if x != 'GOOD':\n",
    "        print(x)"
   ]
  },
  {
   "cell_type": "code",
   "execution_count": 37,
   "metadata": {},
   "outputs": [],
   "source": [
    "def resize_and_store_images(img_path, shape = (256, 256)):\n",
    "    try:\n",
    "        img_path_updated = img_path.replace('fixed', 'imgs').replace('pngs', '256')\n",
    "        dir_path = '/'.join(img_path_updated.split('/')[:-1])\n",
    "        if os.path.exists(dir_path) == False:\n",
    "            os.makedirs(dir_path)\n",
    "        img = PIL.Image.open(img_path)\n",
    "        img = img.resize(shape)\n",
    "        img.save(img_path_updated)\n",
    "        return 'File Saved'\n",
    "    except:\n",
    "        return f'Issue: {img_path}'"
   ]
  },
  {
   "cell_type": "code",
   "execution_count": 29,
   "metadata": {},
   "outputs": [],
   "source": [
    "# with mp.Pool(30) as p:\n",
    "#     saver_1024 = p.map(resize_and_store_images, png_files)"
   ]
  },
  {
   "cell_type": "code",
   "execution_count": 33,
   "metadata": {},
   "outputs": [],
   "source": [
    "# with mp.Pool(30) as p:\n",
    "#     saver_512 = p.map(resize_and_store_images, png_files)"
   ]
  },
  {
   "cell_type": "code",
   "execution_count": 40,
   "metadata": {},
   "outputs": [],
   "source": [
    "# with mp.Pool(30) as p:\n",
    "#     saver_256 = p.map(resize_and_store_images, png_files)"
   ]
  },
  {
   "cell_type": "code",
   "execution_count": 114,
   "metadata": {},
   "outputs": [],
   "source": [
    "def _bytes_feature(data):\n",
    "    if isinstance(data, type(tf.constant(0))):\n",
    "        data = data.numpy()\n",
    "    return tf.train.Feature(bytes_list = tf.train.BytesList(value = [data]))\n",
    "def file_name_feature(data):\n",
    "    return tf.train.Feature(bytes_list = tf.train.BytesList(value = [data]))\n",
    "def label_feature(data):\n",
    "    return tf.train.Feature(int64_list = tf.train.Int64List(value = [data]))"
   ]
  },
  {
   "cell_type": "code",
   "execution_count": 117,
   "metadata": {},
   "outputs": [],
   "source": [
    "def serialize_example(img, label, file_name):\n",
    "    feature = {\n",
    "        'image': _bytes_feature(img),\n",
    "        'label': label_feature(label),\n",
    "        'file_name': file_name_feature(file_name)\n",
    "    }\n",
    "    example_proto = tf.train.Example(features = tf.train.Features(feature = feature))\n",
    "    return example_proto.SerializeToString()"
   ]
  },
  {
   "cell_type": "code",
   "execution_count": 139,
   "metadata": {},
   "outputs": [],
   "source": [
    "def write_tfrec(data_list, tfrec_path):\n",
    "    with tf.io.TFRecordWriter(tfrec_path) as writer:\n",
    "        for idx in tqdm(range(len(data_list))):\n",
    "            path, lab, file_name = data_list[idx][0], data_list[idx][1], data_list[idx][2]\n",
    "            img = cv2.imread(path, cv2.IMREAD_GRAYSCALE)\n",
    "            img = cv2.imencode('.jpg', img, (cv2.IMWRITE_JPEG_QUALITY, 100))[1].tostring()\n",
    "            label = lab\n",
    "            example = serialize_example(\n",
    "                img, label, bytes(file_name, 'utf-8')\n",
    "            )\n",
    "            writer.write(example)"
   ]
  },
  {
   "cell_type": "code",
   "execution_count": 57,
   "metadata": {},
   "outputs": [
    {
     "data": {
      "text/html": [
       "<div>\n",
       "<style scoped>\n",
       "    .dataframe tbody tr th:only-of-type {\n",
       "        vertical-align: middle;\n",
       "    }\n",
       "\n",
       "    .dataframe tbody tr th {\n",
       "        vertical-align: top;\n",
       "    }\n",
       "\n",
       "    .dataframe thead th {\n",
       "        text-align: right;\n",
       "    }\n",
       "</style>\n",
       "<table border=\"1\" class=\"dataframe\">\n",
       "  <thead>\n",
       "    <tr style=\"text-align: right;\">\n",
       "      <th></th>\n",
       "      <th>site_id</th>\n",
       "      <th>patient_id</th>\n",
       "      <th>image_id</th>\n",
       "      <th>laterality</th>\n",
       "      <th>view</th>\n",
       "      <th>age</th>\n",
       "      <th>cancer</th>\n",
       "      <th>biopsy</th>\n",
       "      <th>invasive</th>\n",
       "      <th>BIRADS</th>\n",
       "      <th>implant</th>\n",
       "      <th>density</th>\n",
       "      <th>machine_id</th>\n",
       "      <th>difficult_negative_case</th>\n",
       "      <th>updated_paths</th>\n",
       "    </tr>\n",
       "  </thead>\n",
       "  <tbody>\n",
       "    <tr>\n",
       "      <th>0</th>\n",
       "      <td>2</td>\n",
       "      <td>10006</td>\n",
       "      <td>462822612</td>\n",
       "      <td>L</td>\n",
       "      <td>CC</td>\n",
       "      <td>61.0</td>\n",
       "      <td>0</td>\n",
       "      <td>0</td>\n",
       "      <td>0</td>\n",
       "      <td>NaN</td>\n",
       "      <td>0</td>\n",
       "      <td>NaN</td>\n",
       "      <td>29</td>\n",
       "      <td>False</td>\n",
       "      <td>../data/train_images/10006/462822612.dcm</td>\n",
       "    </tr>\n",
       "    <tr>\n",
       "      <th>1</th>\n",
       "      <td>2</td>\n",
       "      <td>10006</td>\n",
       "      <td>1459541791</td>\n",
       "      <td>L</td>\n",
       "      <td>MLO</td>\n",
       "      <td>61.0</td>\n",
       "      <td>0</td>\n",
       "      <td>0</td>\n",
       "      <td>0</td>\n",
       "      <td>NaN</td>\n",
       "      <td>0</td>\n",
       "      <td>NaN</td>\n",
       "      <td>29</td>\n",
       "      <td>False</td>\n",
       "      <td>../data/train_images/10006/1459541791.dcm</td>\n",
       "    </tr>\n",
       "    <tr>\n",
       "      <th>2</th>\n",
       "      <td>2</td>\n",
       "      <td>10006</td>\n",
       "      <td>1864590858</td>\n",
       "      <td>R</td>\n",
       "      <td>MLO</td>\n",
       "      <td>61.0</td>\n",
       "      <td>0</td>\n",
       "      <td>0</td>\n",
       "      <td>0</td>\n",
       "      <td>NaN</td>\n",
       "      <td>0</td>\n",
       "      <td>NaN</td>\n",
       "      <td>29</td>\n",
       "      <td>False</td>\n",
       "      <td>../data/train_images/10006/1864590858.dcm</td>\n",
       "    </tr>\n",
       "    <tr>\n",
       "      <th>3</th>\n",
       "      <td>2</td>\n",
       "      <td>10006</td>\n",
       "      <td>1874946579</td>\n",
       "      <td>R</td>\n",
       "      <td>CC</td>\n",
       "      <td>61.0</td>\n",
       "      <td>0</td>\n",
       "      <td>0</td>\n",
       "      <td>0</td>\n",
       "      <td>NaN</td>\n",
       "      <td>0</td>\n",
       "      <td>NaN</td>\n",
       "      <td>29</td>\n",
       "      <td>False</td>\n",
       "      <td>../data/train_images/10006/1874946579.dcm</td>\n",
       "    </tr>\n",
       "    <tr>\n",
       "      <th>4</th>\n",
       "      <td>2</td>\n",
       "      <td>10011</td>\n",
       "      <td>220375232</td>\n",
       "      <td>L</td>\n",
       "      <td>CC</td>\n",
       "      <td>55.0</td>\n",
       "      <td>0</td>\n",
       "      <td>0</td>\n",
       "      <td>0</td>\n",
       "      <td>0.0</td>\n",
       "      <td>0</td>\n",
       "      <td>NaN</td>\n",
       "      <td>21</td>\n",
       "      <td>True</td>\n",
       "      <td>../data/train_images/10011/220375232.dcm</td>\n",
       "    </tr>\n",
       "  </tbody>\n",
       "</table>\n",
       "</div>"
      ],
      "text/plain": [
       "   site_id  patient_id    image_id laterality view   age  cancer  biopsy  \\\n",
       "0        2       10006   462822612          L   CC  61.0       0       0   \n",
       "1        2       10006  1459541791          L  MLO  61.0       0       0   \n",
       "2        2       10006  1864590858          R  MLO  61.0       0       0   \n",
       "3        2       10006  1874946579          R   CC  61.0       0       0   \n",
       "4        2       10011   220375232          L   CC  55.0       0       0   \n",
       "\n",
       "   invasive  BIRADS  implant density  machine_id  difficult_negative_case  \\\n",
       "0         0     NaN        0     NaN          29                    False   \n",
       "1         0     NaN        0     NaN          29                    False   \n",
       "2         0     NaN        0     NaN          29                    False   \n",
       "3         0     NaN        0     NaN          29                    False   \n",
       "4         0     0.0        0     NaN          21                     True   \n",
       "\n",
       "                               updated_paths  \n",
       "0   ../data/train_images/10006/462822612.dcm  \n",
       "1  ../data/train_images/10006/1459541791.dcm  \n",
       "2  ../data/train_images/10006/1864590858.dcm  \n",
       "3  ../data/train_images/10006/1874946579.dcm  \n",
       "4   ../data/train_images/10011/220375232.dcm  "
      ]
     },
     "execution_count": 57,
     "metadata": {},
     "output_type": "execute_result"
    }
   ],
   "source": [
    "train_csv.head()"
   ]
  },
  {
   "cell_type": "code",
   "execution_count": 69,
   "metadata": {},
   "outputs": [],
   "source": [
    "def split_datasets(csv_file):\n",
    "    train, test = train_test_split(csv_file, test_size = 0.01)\n",
    "    train, val = train_test_split(train, test_size = 0.01)\n",
    "    return train, val, test"
   ]
  },
  {
   "cell_type": "code",
   "execution_count": 70,
   "metadata": {},
   "outputs": [],
   "source": [
    "train, val, test = split_datasets(train_csv)"
   ]
  },
  {
   "cell_type": "code",
   "execution_count": 94,
   "metadata": {},
   "outputs": [
    {
     "name": "stdout",
     "output_type": "stream",
     "text": [
      "Train label 0: 0.9787749925395405\n",
      "Train label 0: 0.021225007460459563\n",
      "0: 52478, 1: 1138\n"
     ]
    }
   ],
   "source": [
    "train_collec = collections.Counter(train['cancer'].values.tolist())\n",
    "train_key = list(train_collec.keys())\n",
    "train_vals = list(train_collec.values())\n",
    "print(f'Train label 0: {train_vals[0] / sum(train_vals)}')\n",
    "print(f'Train label 0: {train_vals[1] / sum(train_vals)}')\n",
    "print(f'0: {train_vals[0]}, 1: {train_vals[1]}')"
   ]
  },
  {
   "cell_type": "code",
   "execution_count": 95,
   "metadata": {},
   "outputs": [
    {
     "data": {
      "text/plain": [
       "<BarContainer object of 2 artists>"
      ]
     },
     "execution_count": 95,
     "metadata": {},
     "output_type": "execute_result"
    },
    {
     "data": {
      "image/png": "[encoded data removed]",
      "text/plain": [
       "<Figure size 432x288 with 1 Axes>"
      ]
     },
     "metadata": {
      "needs_background": "light"
     },
     "output_type": "display_data"
    }
   ],
   "source": [
    "plt.bar(train_key, train_vals)"
   ]
  },
  {
   "cell_type": "code",
   "execution_count": 93,
   "metadata": {},
   "outputs": [
    {
     "name": "stdout",
     "output_type": "stream",
     "text": [
      "Train label 0: 0.9833948339483395\n",
      "Train label 0: 0.016605166051660517\n",
      "0: 533, 1: 9\n"
     ]
    }
   ],
   "source": [
    "val_collec = collections.Counter(val['cancer'].values.tolist())\n",
    "val_key = list(val_collec.keys())\n",
    "val_vals = list(val_collec.values())\n",
    "print(f'Train label 0: {val_vals[0] / sum(val_vals)}')\n",
    "print(f'Train label 0: {val_vals[1] / sum(val_vals)}')\n",
    "print(f'0: {val_vals[0]}, 1: {val_vals[1]}')"
   ]
  },
  {
   "cell_type": "code",
   "execution_count": 101,
   "metadata": {},
   "outputs": [
    {
     "data": {
      "text/plain": [
       "<BarContainer object of 2 artists>"
      ]
     },
     "execution_count": 101,
     "metadata": {},
     "output_type": "execute_result"
    },
    {
     "data": {
      "image/png": "[encoded data removed]",
      "text/plain": [
       "<Figure size 432x288 with 1 Axes>"
      ]
     },
     "metadata": {
      "needs_background": "light"
     },
     "output_type": "display_data"
    }
   ],
   "source": [
    "plt.bar(val_key, val_vals)"
   ]
  },
  {
   "cell_type": "code",
   "execution_count": 100,
   "metadata": {},
   "outputs": [
    {
     "name": "stdout",
     "output_type": "stream",
     "text": [
      "Test label 0: 0.9799270072992701\n",
      "Test label 1: 0.020072992700729927\n",
      "0: 537, 1: 11\n"
     ]
    }
   ],
   "source": [
    "test_collec = collections.Counter(test['cancer'].values.tolist())\n",
    "test_key = list(test_collec.keys())\n",
    "test_vals = list(test_collec.values())\n",
    "print(f'Test label 0: {test_vals[1] / sum(test_vals)}')\n",
    "print(f'Test label 1: {test_vals[0] / sum(test_vals)}')\n",
    "print(f'0: {test_vals[1]}, 1: {test_vals[0]}')"
   ]
  },
  {
   "cell_type": "code",
   "execution_count": 102,
   "metadata": {},
   "outputs": [
    {
     "data": {
      "text/plain": [
       "<BarContainer object of 2 artists>"
      ]
     },
     "execution_count": 102,
     "metadata": {},
     "output_type": "execute_result"
    },
    {
     "data": {
      "image/png": "[encoded data removed]",
      "text/plain": [
       "<Figure size 432x288 with 1 Axes>"
      ]
     },
     "metadata": {
      "needs_background": "light"
     },
     "output_type": "display_data"
    }
   ],
   "source": [
    "plt.bar(test_key, test_vals)"
   ]
  },
  {
   "cell_type": "code",
   "execution_count": 150,
   "metadata": {},
   "outputs": [],
   "source": [
    "def get_final_data(csv_file):\n",
    "    imgs = [x.replace('train', 'imgs').replace('images', '1024').replace('dcm', 'png') for x in csv_file['updated_paths'].values.tolist()]\n",
    "    labels = train_csv['cancer'].values.tolist()\n",
    "    file_names = ['/'.join(x.split('/')[-2:]) for x in imgs]\n",
    "    final_list = [[imgs[x], labels[x], file_names[x]] for x in range(len(imgs))]\n",
    "    return final_list"
   ]
  },
  {
   "cell_type": "code",
   "execution_count": 141,
   "metadata": {},
   "outputs": [],
   "source": [
    "train_256 = get_final_data(train) \n",
    "val_256 = get_final_data(val)\n",
    "test_256 = get_final_data(test)"
   ]
  },
  {
   "cell_type": "code",
   "execution_count": 142,
   "metadata": {},
   "outputs": [
    {
     "name": "stderr",
     "output_type": "stream",
     "text": [
      "  0%|          | 0/53616 [00:00<?, ?it/s]<ipython-input-139-8d6ffe62272f>:6: DeprecationWarning: tostring() is deprecated. Use tobytes() instead.\n",
      "  img = cv2.imencode('.jpg', img, (cv2.IMWRITE_JPEG_QUALITY, 100))[1].tostring()\n",
      "100%|██████████| 53616/53616 [00:57<00:00, 927.78it/s]\n"
     ]
    }
   ],
   "source": [
    "write_tfrec(train_256, '../data/train_256.tfrec')"
   ]
  },
  {
   "cell_type": "code",
   "execution_count": 144,
   "metadata": {},
   "outputs": [
    {
     "name": "stderr",
     "output_type": "stream",
     "text": [
      "  0%|          | 0/542 [00:00<?, ?it/s]<ipython-input-139-8d6ffe62272f>:6: DeprecationWarning: tostring() is deprecated. Use tobytes() instead.\n",
      "  img = cv2.imencode('.jpg', img, (cv2.IMWRITE_JPEG_QUALITY, 100))[1].tostring()\n",
      "100%|██████████| 542/542 [00:00<00:00, 923.42it/s]\n"
     ]
    }
   ],
   "source": [
    "write_tfrec(val_256, '../data/val_256.tfrec')"
   ]
  },
  {
   "cell_type": "code",
   "execution_count": 143,
   "metadata": {},
   "outputs": [
    {
     "name": "stderr",
     "output_type": "stream",
     "text": [
      "  0%|          | 0/548 [00:00<?, ?it/s]<ipython-input-139-8d6ffe62272f>:6: DeprecationWarning: tostring() is deprecated. Use tobytes() instead.\n",
      "  img = cv2.imencode('.jpg', img, (cv2.IMWRITE_JPEG_QUALITY, 100))[1].tostring()\n",
      "100%|██████████| 548/548 [00:00<00:00, 940.31it/s]\n"
     ]
    }
   ],
   "source": [
    "write_tfrec(test_256, '../data/test_256.tfrec')"
   ]
  },
  {
   "cell_type": "code",
   "execution_count": 146,
   "metadata": {},
   "outputs": [],
   "source": [
    "train_512 = get_final_data(train) \n",
    "val_512 = get_final_data(val)\n",
    "test_512 = get_final_data(test)"
   ]
  },
  {
   "cell_type": "code",
   "execution_count": 147,
   "metadata": {},
   "outputs": [
    {
     "name": "stderr",
     "output_type": "stream",
     "text": [
      "  0%|          | 0/53616 [00:00<?, ?it/s]<ipython-input-139-8d6ffe62272f>:6: DeprecationWarning: tostring() is deprecated. Use tobytes() instead.\n",
      "  img = cv2.imencode('.jpg', img, (cv2.IMWRITE_JPEG_QUALITY, 100))[1].tostring()\n",
      "100%|██████████| 53616/53616 [03:37<00:00, 246.39it/s]\n"
     ]
    }
   ],
   "source": [
    "write_tfrec(train_512, '../data/train_512.tfrec')"
   ]
  },
  {
   "cell_type": "code",
   "execution_count": 148,
   "metadata": {},
   "outputs": [
    {
     "name": "stderr",
     "output_type": "stream",
     "text": [
      "  0%|          | 0/542 [00:00<?, ?it/s]<ipython-input-139-8d6ffe62272f>:6: DeprecationWarning: tostring() is deprecated. Use tobytes() instead.\n",
      "  img = cv2.imencode('.jpg', img, (cv2.IMWRITE_JPEG_QUALITY, 100))[1].tostring()\n",
      "100%|██████████| 542/542 [00:02<00:00, 253.95it/s]\n"
     ]
    }
   ],
   "source": [
    "write_tfrec(val_512, '../data/val_512.tfrec')"
   ]
  },
  {
   "cell_type": "code",
   "execution_count": 149,
   "metadata": {},
   "outputs": [
    {
     "name": "stderr",
     "output_type": "stream",
     "text": [
      "  0%|          | 0/548 [00:00<?, ?it/s]<ipython-input-139-8d6ffe62272f>:6: DeprecationWarning: tostring() is deprecated. Use tobytes() instead.\n",
      "  img = cv2.imencode('.jpg', img, (cv2.IMWRITE_JPEG_QUALITY, 100))[1].tostring()\n",
      "100%|██████████| 548/548 [00:02<00:00, 253.65it/s]\n"
     ]
    }
   ],
   "source": [
    "write_tfrec(test_512, '../data/test_512.tfrec')"
   ]
  },
  {
   "cell_type": "code",
   "execution_count": 151,
   "metadata": {},
   "outputs": [],
   "source": [
    "train_1024 = get_final_data(train) \n",
    "val_1024 = get_final_data(val)\n",
    "test_1024 = get_final_data(test)"
   ]
  },
  {
   "cell_type": "code",
   "execution_count": 152,
   "metadata": {},
   "outputs": [
    {
     "name": "stderr",
     "output_type": "stream",
     "text": [
      "  0%|          | 0/53616 [00:00<?, ?it/s]<ipython-input-139-8d6ffe62272f>:6: DeprecationWarning: tostring() is deprecated. Use tobytes() instead.\n",
      "  img = cv2.imencode('.jpg', img, (cv2.IMWRITE_JPEG_QUALITY, 100))[1].tostring()\n",
      "100%|██████████| 53616/53616 [12:12<00:00, 73.20it/s]\n"
     ]
    }
   ],
   "source": [
    "write_tfrec(train_1024, '../data/train_1024.tfrec')"
   ]
  },
  {
   "cell_type": "code",
   "execution_count": 153,
   "metadata": {},
   "outputs": [
    {
     "name": "stderr",
     "output_type": "stream",
     "text": [
      "  0%|          | 0/542 [00:00<?, ?it/s]<ipython-input-139-8d6ffe62272f>:6: DeprecationWarning: tostring() is deprecated. Use tobytes() instead.\n",
      "  img = cv2.imencode('.jpg', img, (cv2.IMWRITE_JPEG_QUALITY, 100))[1].tostring()\n",
      "100%|██████████| 542/542 [00:07<00:00, 73.92it/s]\n"
     ]
    }
   ],
   "source": [
    "write_tfrec(val_1024, '../data/val_1024.tfrec')"
   ]
  },
  {
   "cell_type": "code",
   "execution_count": 154,
   "metadata": {},
   "outputs": [
    {
     "name": "stderr",
     "output_type": "stream",
     "text": [
      "  0%|          | 0/548 [00:00<?, ?it/s]<ipython-input-139-8d6ffe62272f>:6: DeprecationWarning: tostring() is deprecated. Use tobytes() instead.\n",
      "  img = cv2.imencode('.jpg', img, (cv2.IMWRITE_JPEG_QUALITY, 100))[1].tostring()\n",
      "100%|██████████| 548/548 [00:07<00:00, 72.83it/s]\n"
     ]
    }
   ],
   "source": [
    "write_tfrec(test_1024, '../data/test_1024.tfrec')"
   ]
  },
  {
   "cell_type": "code",
   "execution_count": null,
   "metadata": {},
   "outputs": [],
   "source": []
  }
 ],
 "metadata": {
  "kernelspec": {
   "display_name": "Python 3",
   "language": "python",
   "name": "python3"
  },
  "language_info": {
   "codemirror_mode": {
    "name": "ipython",
    "version": 3
   },
   "file_extension": ".py",
   "mimetype": "text/x-python",
   "name": "python",
   "nbconvert_exporter": "python",
   "pygments_lexer": "ipython3",
   "version": "3.8.10"
  }
 },
 "nbformat": 4,
 "nbformat_minor": 4
}
